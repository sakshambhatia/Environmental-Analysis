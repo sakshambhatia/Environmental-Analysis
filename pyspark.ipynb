{
 "cells": [
  {
   "cell_type": "code",
   "execution_count": 1,
   "metadata": {},
   "outputs": [],
   "source": [
    "import pandas as pd\n",
    "import numpy as np\n",
    "import pyspark\n",
    "import findspark\n",
    "from pyspark.sql import SparkSession\n",
    "from pyspark import SparkContext\n",
    "from pyspark.sql.functions import udf\n",
    "from pyspark.sql.functions import isnan, when, count, col\n",
    "from pyspark.sql.functions import min,max\n",
    "from pyspark.sql.functions import weekofyear, sum\n",
    "import pyspark.sql.types as types\n",
    "import math\n",
    "from ipywidgets import interact, interactive, fixed, interact_manual\n",
    "import ipywidgets as widgets"
   ]
  },
  {
   "cell_type": "code",
   "execution_count": 2,
   "metadata": {},
   "outputs": [],
   "source": [
    "sc = SparkContext() \n",
    "sqlContext = pyspark.SQLContext(sc)\n",
    "spark = pyspark.sql.SparkSession(sc) "
   ]
  },
  {
   "cell_type": "code",
   "execution_count": 3,
   "metadata": {},
   "outputs": [],
   "source": [
    "data = spark.read.csv(\"clean_data.csv\",header='true',inferSchema='true')"
   ]
  },
  {
   "cell_type": "code",
   "execution_count": 4,
   "metadata": {},
   "outputs": [
    {
     "data": {
      "text/plain": [
       "435735"
      ]
     },
     "execution_count": 4,
     "metadata": {},
     "output_type": "execute_result"
    }
   ],
   "source": [
    "data.count()"
   ]
  },
  {
   "cell_type": "code",
   "execution_count": 6,
   "metadata": {},
   "outputs": [
    {
     "name": "stdout",
     "output_type": "stream",
     "text": [
      "root\n",
      " |-- _c0: integer (nullable = true)\n",
      " |-- no2: double (nullable = true)\n",
      " |-- spm: double (nullable = true)\n",
      " |-- location: string (nullable = true)\n",
      " |-- rspm: double (nullable = true)\n",
      " |-- sampling_date: string (nullable = true)\n",
      " |-- date: timestamp (nullable = true)\n",
      " |-- state: string (nullable = true)\n",
      " |-- so2: double (nullable = true)\n",
      " |-- type: string (nullable = true)\n",
      "\n"
     ]
    }
   ],
   "source": [
    "data.printSchema()"
   ]
  },
  {
   "cell_type": "code",
   "execution_count": 12,
   "metadata": {},
   "outputs": [],
   "source": [
    "data.createOrReplaceTempView(\"env\")"
   ]
  },
  {
   "cell_type": "code",
   "execution_count": 13,
   "metadata": {},
   "outputs": [
    {
     "name": "stdout",
     "output_type": "stream",
     "text": [
      "+--------+---------+-----------+\n",
      "|database|tableName|isTemporary|\n",
      "+--------+---------+-----------+\n",
      "|        |      env|       true|\n",
      "+--------+---------+-----------+\n",
      "\n"
     ]
    }
   ],
   "source": [
    "spark.sql(\"show tables\").show()"
   ]
  },
  {
   "cell_type": "code",
   "execution_count": 15,
   "metadata": {},
   "outputs": [
    {
     "name": "stdout",
     "output_type": "stream",
     "text": [
      "+---+----+------------------+---------+------------------+------------------+-------------------+--------------+----+--------------------+\n",
      "|_c0| no2|               spm| location|              rspm|     sampling_date|               date|         state| so2|                type|\n",
      "+---+----+------------------+---------+------------------+------------------+-------------------+--------------+----+--------------------+\n",
      "|  0|17.4|220.78347959832885|Hyderabad|108.83278418538401|February - M021990|1990-02-01 00:00:00|Andhra Pradesh| 4.8|Residential, Rura...|\n",
      "|  1| 7.0|220.78347959832885|Hyderabad|108.83278418538401|February - M021990|1990-02-01 00:00:00|Andhra Pradesh| 3.1|     Industrial Area|\n",
      "|  2|28.5|220.78347959832885|Hyderabad|108.83278418538401|February - M021990|1990-02-01 00:00:00|Andhra Pradesh| 6.2|Residential, Rura...|\n",
      "|  3|14.7|220.78347959832885|Hyderabad|108.83278418538401|   March - M031990|1990-03-01 00:00:00|Andhra Pradesh| 6.3|Residential, Rura...|\n",
      "|  4| 7.5|220.78347959832885|Hyderabad|108.83278418538401|   March - M031990|1990-03-01 00:00:00|Andhra Pradesh| 4.7|     Industrial Area|\n",
      "|  5|25.7|220.78347959832885|Hyderabad|108.83278418538401|   March - M031990|1990-03-01 00:00:00|Andhra Pradesh| 6.4|Residential, Rura...|\n",
      "|  6|17.1|220.78347959832885|Hyderabad|108.83278418538401|   April - M041990|1990-04-01 00:00:00|Andhra Pradesh| 5.4|Residential, Rura...|\n",
      "|  7| 8.7|220.78347959832885|Hyderabad|108.83278418538401|   April - M041990|1990-04-01 00:00:00|Andhra Pradesh| 4.7|     Industrial Area|\n",
      "|  8|23.0|220.78347959832885|Hyderabad|108.83278418538401|   April - M041990|1990-04-01 00:00:00|Andhra Pradesh| 4.2|Residential, Rura...|\n",
      "|  9| 8.9|220.78347959832885|Hyderabad|108.83278418538401|     May - M051990|1990-05-01 00:00:00|Andhra Pradesh| 4.0|     Industrial Area|\n",
      "| 10|18.6|220.78347959832885|Hyderabad|108.83278418538401|     May - M051990|1990-05-01 00:00:00|Andhra Pradesh| 3.6|Residential, Rura...|\n",
      "| 11|14.1|             133.0|Hyderabad|108.83278418538401|    June - M061990|1990-06-01 00:00:00|Andhra Pradesh| 3.9|Residential, Rura...|\n",
      "| 12|11.8|              82.0|Hyderabad|108.83278418538401|    June - M061990|1990-06-01 00:00:00|Andhra Pradesh| 5.6|     Industrial Area|\n",
      "| 13|19.3|             111.0|Hyderabad|108.83278418538401|    June - M061990|1990-06-01 00:00:00|Andhra Pradesh| 3.3|Residential, Rura...|\n",
      "| 14| 8.2|             118.0|Hyderabad|108.83278418538401|    July - M071990|1990-07-01 00:00:00|Andhra Pradesh| 3.9|Residential, Rura...|\n",
      "| 15|12.1|             135.0|Hyderabad|108.83278418538401|    July - M071990|1990-07-01 00:00:00|Andhra Pradesh| 3.5|Residential, Rura...|\n",
      "| 16|10.2|              80.0|Hyderabad|108.83278418538401|    July - M071990|1990-07-01 00:00:00|Andhra Pradesh| 7.9|     Industrial Area|\n",
      "| 17| 9.9|             179.0|Hyderabad|108.83278418538401|  August - M081990|1990-08-01 00:00:00|Andhra Pradesh| 4.0|Residential, Rura...|\n",
      "| 18|11.5|              58.0|Hyderabad|108.83278418538401|  August - M081990|1990-08-01 00:00:00|Andhra Pradesh|12.4|     Industrial Area|\n",
      "| 19|12.3|              99.0|Hyderabad|108.83278418538401|  August - M081990|1990-08-01 00:00:00|Andhra Pradesh| 4.0|Residential, Rura...|\n",
      "+---+----+------------------+---------+------------------+------------------+-------------------+--------------+----+--------------------+\n",
      "only showing top 20 rows\n",
      "\n"
     ]
    }
   ],
   "source": [
    "spark.sql(\"select * from env\").show()"
   ]
  },
  {
   "cell_type": "code",
   "execution_count": 18,
   "metadata": {},
   "outputs": [
    {
     "name": "stdout",
     "output_type": "stream",
     "text": [
      "+-------------------+\n",
      "|          daterange|\n",
      "+-------------------+\n",
      "|1987-01-01 00:00:00|\n",
      "|2015-12-31 00:00:00|\n",
      "+-------------------+\n",
      "\n"
     ]
    }
   ],
   "source": [
    "spark.sql(\"select min(date) as daterange from env union select max(date) from env\").show()"
   ]
  },
  {
   "cell_type": "code",
   "execution_count": 29,
   "metadata": {},
   "outputs": [
    {
     "name": "stdout",
     "output_type": "stream",
     "text": [
      "+--------+-------------------+\n",
      "|location|               date|\n",
      "+--------+-------------------+\n",
      "| Chennai|2011-02-05 00:00:00|\n",
      "|  Nagpur|2012-06-25 00:00:00|\n",
      "|Raniganj|2011-04-02 00:00:00|\n",
      "|Raniganj|2011-11-01 00:00:00|\n",
      "|Raniganj|2011-12-27 00:00:00|\n",
      "+--------+-------------------+\n",
      "\n"
     ]
    }
   ],
   "source": [
    "spark.sql(\"select location,date from env order by so2 DESC limit 5\").show()"
   ]
  },
  {
   "cell_type": "code",
   "execution_count": 37,
   "metadata": {},
   "outputs": [
    {
     "name": "stdout",
     "output_type": "stream",
     "text": [
      "+-----------------+-----------+----+\n",
      "|         location|      state|year|\n",
      "+-----------------+-----------+----+\n",
      "|           Madras| Tamil Nadu|1987|\n",
      "|           Madras| Tamil Nadu|1988|\n",
      "|           Haldia|West Bengal|1989|\n",
      "|Daman Diu & Nagar|Daman & Diu|1990|\n",
      "|         Guwahati|      Assam|1991|\n",
      "|     Yamuna Nagar|    Haryana|1992|\n",
      "|        Faridabad|    Haryana|1992|\n",
      "|            Nalco|     Odisha|1992|\n",
      "|         Rourkela|     Odisha|1992|\n",
      "|           Rajkot|    Gujarat|1993|\n",
      "|        Kozhikode|     Kerala|1994|\n",
      "|       Coimbatore| Tamil Nadu|1995|\n",
      "|        Jalandhar|     Punjab|1996|\n",
      "|           Cochin|     Kerala|1997|\n",
      "|           Madras| Tamil Nadu|1997|\n",
      "|       Coimbatore| Tamil Nadu|1997|\n",
      "|         Shillong|  Meghalaya|1997|\n",
      "|         Shillong|  Meghalaya|1998|\n",
      "|           Cochin|     Kerala|1998|\n",
      "|         Shillong|  Meghalaya|1999|\n",
      "+-----------------+-----------+----+\n",
      "only showing top 20 rows\n",
      "\n"
     ]
    }
   ],
   "source": [
    "spark.sql(\"select location,state,t1.year from (select no2,location,state,year(date) as year from env) t1,(select min(no2) as min_no2, year(date) as year from env group by year) t2 where t1.year=t2.year and min_no2=no2 group by location,state,t1.year order by t1.year\").show()"
   ]
  },
  {
   "cell_type": "code",
   "execution_count": 41,
   "metadata": {},
   "outputs": [
    {
     "name": "stdout",
     "output_type": "stream",
     "text": [
      "+----+----+\n",
      "| gas|year|\n",
      "+----+----+\n",
      "|rspm|1990|\n",
      "| no2|1998|\n",
      "| spm|2015|\n",
      "| so2|2003|\n",
      "+----+----+\n",
      "\n"
     ]
    }
   ],
   "source": [
    "spark.sql(\"(select 'no2' as gas,year(date) as year from env group by year order by max(no2) limit 1) union (select 'so2' as gas,year(date) as year from env group by year order by max(so2) limit 1) union (select 'spm' as gas,year(date) as year from env group by year order by max(spm) limit 1) union (select 'rspm' as gas,year(date) as year from env group by year order by max(rspm) limit 1)\").show()"
   ]
  },
  {
   "cell_type": "code",
   "execution_count": 53,
   "metadata": {},
   "outputs": [
    {
     "name": "stdout",
     "output_type": "stream",
     "text": [
      "+-----+------------------+\n",
      "|month|               so2|\n",
      "+-----+------------------+\n",
      "|   12|176.80000000000004|\n",
      "+-----+------------------+\n",
      "\n"
     ]
    }
   ],
   "source": [
    "spark.sql(\"select month(date) as month,sum(so2) as so2 from env where state like 'Tamil Nadu' and year(date)=2001 group by month order by so2 DESC limit 1\").show()"
   ]
  },
  {
   "cell_type": "code",
   "execution_count": 68,
   "metadata": {},
   "outputs": [
    {
     "name": "stdout",
     "output_type": "stream",
     "text": [
      "+--------+-----+\n",
      "|location|  spm|\n",
      "+--------+-----+\n",
      "|  Kanpur|811.0|\n",
      "+--------+-----+\n",
      "\n"
     ]
    }
   ],
   "source": [
    "spark.sql(\"select location,env.spm from env,(select max(spm) as spm from env where year(date)=2001 and month(date)=11 and dayofmonth(date)=1) t1 where year(date)=2001 and month(date)=11 and dayofmonth(date)=1 and env.spm=t1.spm\").show()"
   ]
  },
  {
   "cell_type": "code",
   "execution_count": 71,
   "metadata": {},
   "outputs": [],
   "source": [
    "range_slider = widgets.IntRangeSlider(\n",
    "    value=[1987, 2015],\n",
    "    min=1987, max=2015, step=1,\n",
    "    description='day range:',\n",
    "    \n",
    ")"
   ]
  },
  {
   "cell_type": "code",
   "execution_count": 73,
   "metadata": {},
   "outputs": [
    {
     "data": {
      "application/vnd.jupyter.widget-view+json": {
       "model_id": "3fe9df2edcda4842af192a87a7851217",
       "version_major": 2,
       "version_minor": 0
      },
      "text/plain": [
       "IntRangeSlider(value=(1994, 2009), description='day range:', max=2015, min=1987)"
      ]
     },
     "metadata": {},
     "output_type": "display_data"
    }
   ],
   "source": [
    "range_slider"
   ]
  },
  {
   "cell_type": "code",
   "execution_count": 80,
   "metadata": {},
   "outputs": [
    {
     "name": "stdout",
     "output_type": "stream",
     "text": [
      "+-----------------+-----------------+--------------------+-------------------+\n",
      "|        total_so2|        total_no2|           total_spm|         total_rspm|\n",
      "+-----------------+-----------------+--------------------+-------------------+\n",
      "|2161771.501226218|4872989.589518057|4.0145263220047936E7|1.993355516735378E7|\n",
      "+-----------------+-----------------+--------------------+-------------------+\n",
      "\n"
     ]
    }
   ],
   "source": [
    "query = (\"select sum(so2) as total_so2, sum(no2) as total_no2, sum(spm) as total_spm, sum(rspm) as total_rspm from env where year(date) between {} and {}\"\n",
    "         .format(range_slider.value[0],range_slider.value[1]))\n",
    "spark.sql(query).show()"
   ]
  },
  {
   "cell_type": "code",
   "execution_count": 88,
   "metadata": {},
   "outputs": [
    {
     "name": "stdout",
     "output_type": "stream",
     "text": [
      "+-------------------+-----+\n",
      "|               date|  gas|\n",
      "+-------------------+-----+\n",
      "|2015-03-26 00:00:00|218.0|\n",
      "|1999-02-01 00:00:00|218.0|\n",
      "|2011-10-27 00:00:00|218.0|\n",
      "|2012-02-15 00:00:00|218.0|\n",
      "+-------------------+-----+\n",
      "\n"
     ]
    }
   ],
   "source": [
    "spark.sql(\"select date,(so2+no2) as gas from env,(select max(so2+no2) as maxgas from env where location='Faridabad') t1 where maxgas=(so2+no2)\").show()\n",
    "\n"
   ]
  },
  {
   "cell_type": "code",
   "execution_count": 90,
   "metadata": {},
   "outputs": [
    {
     "name": "stdout",
     "output_type": "stream",
     "text": [
      "+----+------------------+------------------+------------------+------------------+\n",
      "|year|           avg_so2|           avg_no2|           avg_spm|          avg_rspm|\n",
      "+----+------------------+------------------+------------------+------------------+\n",
      "|1987|18.897787927066712|29.491222065387078| 278.4012901728386|108.83278418538418|\n",
      "|1988|20.093998803096028|29.760822757336758|247.35356990069138|108.83278418538391|\n",
      "|1989| 18.31566018218572|29.133040653652802|237.62027260897725|108.83278418538373|\n",
      "|1990| 17.46782342609222| 25.71627571793857|242.30536151344407|108.83278418538318|\n",
      "|1991| 17.17563717526931|25.979129704731992|241.39668863701894|108.83278418538313|\n",
      "|1992| 17.05150799054437|30.458832108204238|199.39217115784672|108.83278418538326|\n",
      "|1993|21.582684427808616|30.100066576626993| 226.2074549641353|108.83278418538322|\n",
      "|1994|21.902739179733913| 31.49709287273406|243.56870867004744|108.83278418538316|\n",
      "|1995| 23.78482081866733|32.245831621258404|242.81573746263095|108.83278418538315|\n",
      "|1996|20.118915423173622|  26.4640322952562| 248.2428644373414|108.83278418538326|\n",
      "|1997| 20.07758593575596|27.953251074827868|208.81199764173658|108.83278418538308|\n",
      "|1998|  19.3712249541015| 27.21622765269136|239.36547179595968|108.83278418538316|\n",
      "|1999| 19.54616661614996|28.271166558862202| 230.3558514685656|108.83278418538303|\n",
      "|2000| 16.72498181126309| 28.92493349999629|201.19553882020486|108.83278418538326|\n",
      "|2001|15.016892103602826| 28.56377069422389|229.17659639047298|108.83278418538306|\n",
      "|2002| 13.09579487472365|27.102434991282898| 186.4769859270837|108.83278418538318|\n",
      "|2003|6.9081287197813035|21.849922364141275|199.01594769518255| 95.43897906044825|\n",
      "|2004| 11.45869582167493| 27.92084622066676|185.19599526961147|119.32167182356314|\n",
      "|2005|12.485160397782757|28.255984041759323| 231.5899233424251|111.27451092079576|\n",
      "|2006|11.234578121262706|26.574794189695865|224.80183299304474|109.36371775737973|\n",
      "+----+------------------+------------------+------------------+------------------+\n",
      "only showing top 20 rows\n",
      "\n"
     ]
    }
   ],
   "source": [
    "spark.sql(\"select year(date) as year,avg(so2) as avg_so2, avg(no2) as avg_no2, avg(spm) as avg_spm, avg(rspm) as avg_rspm from env group by year(date) order by year(date)\").show()"
   ]
  },
  {
   "cell_type": "code",
   "execution_count": 91,
   "metadata": {},
   "outputs": [
    {
     "name": "stdout",
     "output_type": "stream",
     "text": [
      "+-----------------+--------------+\n",
      "|            state|num_of_records|\n",
      "+-----------------+--------------+\n",
      "|         Nagaland|          2463|\n",
      "|        Karnataka|         17118|\n",
      "|           Odisha|         19278|\n",
      "|           Kerala|         24728|\n",
      "|       Tamil Nadu|         20597|\n",
      "|     Chhattisgarh|          7831|\n",
      "|   Andhra Pradesh|         26368|\n",
      "|   Madhya Pradesh|         19920|\n",
      "|           Punjab|         25634|\n",
      "|          Manipur|            76|\n",
      "|      Daman & Diu|           782|\n",
      "|  Jammu & Kashmir|          1289|\n",
      "|              Goa|          6206|\n",
      "|          Mizoram|          5338|\n",
      "| Himachal Pradesh|         22896|\n",
      "|       Puducherry|          3785|\n",
      "|          Haryana|          3420|\n",
      "|        Jharkhand|          5968|\n",
      "|Arunachal Pradesh|            90|\n",
      "|          Gujarat|         21279|\n",
      "+-----------------+--------------+\n",
      "only showing top 20 rows\n",
      "\n"
     ]
    }
   ],
   "source": [
    "spark.sql(\"select state,count(*) as num_of_records from env group by state\").show()"
   ]
  },
  {
   "cell_type": "code",
   "execution_count": null,
   "metadata": {},
   "outputs": [],
   "source": []
  }
 ],
 "metadata": {
  "kernelspec": {
   "display_name": "Python 3",
   "language": "python",
   "name": "python3"
  },
  "language_info": {
   "codemirror_mode": {
    "name": "ipython",
    "version": 3
   },
   "file_extension": ".py",
   "mimetype": "text/x-python",
   "name": "python",
   "nbconvert_exporter": "python",
   "pygments_lexer": "ipython3",
   "version": "3.7.4"
  }
 },
 "nbformat": 4,
 "nbformat_minor": 2
}
